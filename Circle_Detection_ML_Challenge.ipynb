{
 "cells": [
  {
   "cell_type": "code",
   "execution_count": 1,
   "metadata": {
    "id": "qh5h0GvAZ7KX"
   },
   "outputs": [],
   "source": [
    "#starter code\n",
    "from typing import NamedTuple, Optional, Tuple, Generator\n",
    "\n",
    "import numpy as np\n",
    "from matplotlib import pyplot as plt\n",
    "from skimage.draw import circle_perimeter_aa\n",
    "\n",
    "\n",
    "class CircleParams(NamedTuple):\n",
    "    row: int\n",
    "    col: int\n",
    "    radius: int\n",
    "def draw_circle(img: np.ndarray, row: int, col: int, radius: int) -> np.ndarray:\n",
    "    \"\"\"\n",
    "    Draw a circle in a numpy array, inplace.\n",
    "    The center of the circle is at (row, col) and the radius is given by radius.\n",
    "    The array is assumed to be square.\n",
    "    Any pixels outside the array are ignored.\n",
    "    Circle is white (1) on black (0) background, and is anti-aliased.\n",
    "    \"\"\"\n",
    "    rr, cc, val = circle_perimeter_aa(row, col, radius)\n",
    "    valid = (rr >= 0) & (rr < img.shape[0]) & (cc >= 0) & (cc < img.shape[1])\n",
    "    img[rr[valid], cc[valid]] = val[valid]\n",
    "    return img\n",
    "\n",
    "\n",
    "def noisy_circle(\n",
    "        img_size: int, min_radius: float, max_radius: float, noise_level: float\n",
    ") -> Tuple[np.ndarray, CircleParams]:\n",
    "    \"\"\"\n",
    "    Draw a circle in a numpy array, with normal noise.\n",
    "    \"\"\"\n",
    "\n",
    "    # Create an empty image\n",
    "    img = np.zeros((img_size, img_size))\n",
    "\n",
    "    radius = np.random.randint(min_radius, max_radius)\n",
    "\n",
    "    # x,y coordinates of the center of the circle\n",
    "    row, col = np.random.randint(img_size, size=2)\n",
    "\n",
    "    # Draw the circle inplace\n",
    "    draw_circle(img, row, col, radius)\n",
    "\n",
    "    added_noise = np.random.normal(0.5, noise_level, img.shape)\n",
    "    img += added_noise\n",
    "\n",
    "    return img, CircleParams(row, col, radius)\n",
    "\n",
    "\n",
    "def show_circle(img: np.ndarray):\n",
    "    fig, ax = plt.subplots()\n",
    "    ax.imshow(img, cmap='gray')\n",
    "    ax.set_title('Circle')\n",
    "    plt.show()\n",
    "\n",
    "\n",
    "def generate_examples(\n",
    "        noise_level: float = 0.5,\n",
    "        img_size: int = 100,\n",
    "        min_radius: Optional[int] = None,\n",
    "        max_radius: Optional[int] = None,\n",
    "        dataset_path: str = 'ds',\n",
    ") -> Generator[Tuple[np.ndarray, CircleParams], None, None]:\n",
    "    if not min_radius:\n",
    "        min_radius = img_size // 10\n",
    "    if not max_radius:\n",
    "        max_radius = img_size // 2\n",
    "    assert max_radius > min_radius, \"max_radius must be greater than min_radius\"\n",
    "    assert img_size > max_radius, \"size should be greater than max_radius\"\n",
    "    assert noise_level >= 0, \"noise should be non-negative\"\n",
    "\n",
    "    params = f\"{noise_level=}, {img_size=}, {min_radius=}, {max_radius=}, {dataset_path=}\"\n",
    "    print(f\"Using parameters: {params}\")\n",
    "    while True:\n",
    "        img, params = noisy_circle(\n",
    "            img_size=img_size, min_radius=min_radius, max_radius=max_radius, noise_level=noise_level\n",
    "        )\n",
    "        yield img, params\n",
    "\n",
    "\n",
    "def iou(a: CircleParams, b: CircleParams) -> float:\n",
    "    \"\"\"Calculate the intersection over union of two circles\"\"\"\n",
    "    r1, r2 = a.radius, b.radius\n",
    "    d = np.linalg.norm(np.array([a.row, a.col]) - np.array([b.row, b.col]))\n",
    "    if d > r1 + r2:\n",
    "        # If the distance between the centers is greater than the sum of the radii, then the circles don't intersect\n",
    "        return 0.0\n",
    "    if d <= abs(r1 - r2):\n",
    "        # If the distance between the centers is less than the absolute difference of the radii, then one circle is\n",
    "        # inside the other\n",
    "        larger_r, smaller_r = max(r1, r2), min(r1, r2)\n",
    "        return smaller_r ** 2 / larger_r ** 2\n",
    "    r1_sq, r2_sq = r1**2, r2**2\n",
    "    d1 = (r1_sq - r2_sq + d**2) / (2 * d)\n",
    "    d2 = d - d1\n",
    "    sector_area1 = r1_sq * np.arccos(d1 / r1)\n",
    "    triangle_area1 = d1 * np.sqrt(r1_sq - d1**2)\n",
    "    sector_area2 = r2_sq * np.arccos(d2 / r2)\n",
    "    triangle_area2 = d2 * np.sqrt(r2_sq - d2**2)\n",
    "    intersection = sector_area1 + sector_area2 - (triangle_area1 + triangle_area2)\n",
    "    union = np.pi * (r1_sq + r2_sq) - intersection\n",
    "    return intersection / union"
   ]
  },
  {
   "cell_type": "code",
   "execution_count": 2,
   "metadata": {
    "colab": {
     "base_uri": "https://localhost:8080/"
    },
    "id": "GFU2pHyzg9Dz",
    "outputId": "9dec12f7-7a40-4d63-91a0-0162f1f08ff8"
   },
   "outputs": [
    {
     "name": "stdout",
     "output_type": "stream",
     "text": [
      "Using parameters: noise_level=0.5, img_size=100, min_radius=10, max_radius=50, dataset_path='ds'\n"
     ]
    }
   ],
   "source": [
    "#data preparation\n",
    "import numpy as np\n",
    "\n",
    "def create_dataset(num_samples, img_size=100, noise_level=0.5, min_radius=None, max_radius=None):\n",
    "    gen = generate_examples(noise_level, img_size, min_radius, max_radius)\n",
    "    dataset = []\n",
    "    labels = []\n",
    "\n",
    "    for _ in range(num_samples):\n",
    "        img, params = next(gen)\n",
    "        dataset.append(img)\n",
    "        labels.append([params.row, params.col, params.radius])\n",
    "\n",
    "    return np.array(dataset), np.array(labels)\n",
    "\n",
    "# Example usage\n",
    "num_samples = 10000  # for example, 10,000 samples\n",
    "dataset, labels = create_dataset(num_samples)\n",
    "\n",
    "# Save dataset\n",
    "np.save('dataset.npy', dataset)\n",
    "np.save('labels.npy', labels)\n"
   ]
  },
  {
   "cell_type": "code",
   "execution_count": 3,
   "metadata": {
    "id": "8wUBXAVM_TP1"
   },
   "outputs": [],
   "source": [
    "# Load the dataset\n",
    "dataset = np.load('dataset.npy')\n",
    "labels = np.load('labels.npy')\n"
   ]
  },
  {
   "cell_type": "code",
   "execution_count": 4,
   "metadata": {
    "colab": {
     "base_uri": "https://localhost:8080/"
    },
    "id": "obJTP-YkA5wL",
    "outputId": "05869143-22a2-4fd8-c390-f8ae371e97b2"
   },
   "outputs": [
    {
     "data": {
      "text/plain": [
       "((8000, 100, 100, 1), (2000, 100, 100, 1), (8000, 3), (2000, 3))"
      ]
     },
     "execution_count": 4,
     "metadata": {},
     "output_type": "execute_result"
    }
   ],
   "source": [
    "from sklearn.model_selection import train_test_split\n",
    "from tensorflow.keras.utils import normalize\n",
    "\n",
    "# Normalize the image data\n",
    "dataset_normalized = normalize(dataset, axis=1)\n",
    "\n",
    "# Reshape the dataset for CNN (adding a channel dimension)\n",
    "# Assuming the images are grayscale, hence the channel dimension is 1\n",
    "dataset_reshaped = dataset_normalized.reshape((-1, 100, 100, 1))\n",
    "\n",
    "# Split the dataset into training and testing sets\n",
    "X_train, X_test, y_train, y_test = train_test_split(dataset_reshaped, labels, test_size=0.2, random_state=42)\n",
    "\n",
    "X_train.shape, X_test.shape, y_train.shape, y_test.shape\n"
   ]
  },
  {
   "cell_type": "code",
   "execution_count": 5,
   "metadata": {
    "id": "fRSAisQZm4BZ"
   },
   "outputs": [],
   "source": [
    "import tensorflow as tf\n",
    "\n",
    "def custom_loss_function(y_true, y_pred):\n",
    "    # Assuming y_true and y_pred are both in the format [x, y, radius]\n",
    "    loss_x = tf.reduce_mean(tf.abs(y_true[:, 0] - y_pred[:, 0]))\n",
    "    loss_y = tf.reduce_mean(tf.abs(y_true[:, 1] - y_pred[:, 1]))\n",
    "    loss_radius = tf.reduce_mean(tf.square(y_true[:, 2] - y_pred[:, 2]))\n",
    "\n",
    "    # Weighted sum of the losses\n",
    "    return loss_x + loss_y + 0.5 * loss_radius\n"
   ]
  },
  {
   "cell_type": "code",
   "execution_count": 6,
   "metadata": {
    "id": "emOdpoFaowNj"
   },
   "outputs": [],
   "source": [
    "import tensorflow as tf\n",
    "\n",
    "def iou_metric(y_true, y_pred):\n",
    "    # Assuming y_true and y_pred are tensors with shape [batch_size, 3]\n",
    "    # where the three columns are row, col, and radius of the circles\n",
    "    r1 = y_true[:, 2]\n",
    "    r2 = y_pred[:, 2]\n",
    "    d = tf.norm(y_true[:, :2] - y_pred[:, :2], axis=1)\n",
    "\n",
    "    condition1 = tf.less_equal(d, tf.abs(r1 - r2))\n",
    "    condition2 = tf.greater(d, r1 + r2)\n",
    "\n",
    "    larger_r = tf.where(r1 > r2, r1, r2)\n",
    "    smaller_r = tf.where(r1 > r2, r2, r1)\n",
    "\n",
    "    iou_inside = tf.where(condition1, tf.square(smaller_r) / tf.square(larger_r), tf.zeros_like(r1))\n",
    "    iou_no_overlap = tf.where(condition2, tf.zeros_like(r1), tf.zeros_like(r1))\n",
    "\n",
    "    r1_sq = tf.square(r1)\n",
    "    r2_sq = tf.square(r2)\n",
    "    d1 = (r1_sq - r2_sq + tf.square(d)) / (2 * d)\n",
    "    d2 = d - d1\n",
    "\n",
    "    sector_area1 = r1_sq * tf.acos(d1 / r1)\n",
    "    triangle_area1 = d1 * tf.sqrt(r1_sq - tf.square(d1))\n",
    "    sector_area2 = r2_sq * tf.acos(d2 / r2)\n",
    "    triangle_area2 = d2 * tf.sqrt(r2_sq - tf.square(d2))\n",
    "\n",
    "    intersection = sector_area1 + sector_area2 - (triangle_area1 + triangle_area2)\n",
    "    union = np.pi * (r1_sq + r2_sq) - intersection\n",
    "\n",
    "    iou_overlap = tf.where(tf.logical_not(tf.logical_or(condition1, condition2)), intersection / union, tf.zeros_like(r1))\n",
    "\n",
    "    return tf.reduce_mean(tf.where(condition1, iou_inside, tf.where(condition2, iou_no_overlap, iou_overlap)))\n"
   ]
  },
  {
   "cell_type": "code",
   "execution_count": null,
   "metadata": {
    "colab": {
     "base_uri": "https://localhost:8080/"
    },
    "id": "eNTrMYj332ef",
    "outputId": "9e4190c6-5050-4dee-b486-a87ba8ad0700"
   },
   "outputs": [
    {
     "name": "stdout",
     "output_type": "stream",
     "text": [
      "Model: \"sequential\"\n",
      "_________________________________________________________________\n",
      " Layer (type)                Output Shape              Param #   \n",
      "=================================================================\n",
      " conv2d (Conv2D)             (None, 98, 98, 32)        320       \n",
      "                                                                 \n",
      " max_pooling2d (MaxPooling2  (None, 49, 49, 32)        0         \n",
      " D)                                                              \n",
      "                                                                 \n",
      " conv2d_1 (Conv2D)           (None, 47, 47, 64)        18496     \n",
      "                                                                 \n",
      " max_pooling2d_1 (MaxPoolin  (None, 23, 23, 64)        0         \n",
      " g2D)                                                            \n",
      "                                                                 \n",
      " conv2d_2 (Conv2D)           (None, 21, 21, 128)       73856     \n",
      "                                                                 \n",
      " max_pooling2d_2 (MaxPoolin  (None, 10, 10, 128)       0         \n",
      " g2D)                                                            \n",
      "                                                                 \n",
      " flatten (Flatten)           (None, 12800)             0         \n",
      "                                                                 \n",
      " dense (Dense)               (None, 128)               1638528   \n",
      "                                                                 \n",
      " dense_1 (Dense)             (None, 3)                 387       \n",
      "                                                                 \n",
      "=================================================================\n",
      "Total params: 1731587 (6.61 MB)\n",
      "Trainable params: 1731587 (6.61 MB)\n",
      "Non-trainable params: 0 (0.00 Byte)\n",
      "_________________________________________________________________\n",
      "Epoch 1/20\n",
      "250/250 [==============================] - 160s 634ms/step - loss: 664.3457 - iou_metric: 0.1487 - val_loss: 613.5710 - val_iou_metric: 0.1721\n",
      "Epoch 2/20\n",
      "250/250 [==============================] - 161s 642ms/step - loss: 615.1802 - iou_metric: 0.1543 - val_loss: 606.9290 - val_iou_metric: 0.1744\n",
      "Epoch 3/20\n",
      "250/250 [==============================] - 156s 625ms/step - loss: 593.5839 - iou_metric: 0.1590 - val_loss: 591.4317 - val_iou_metric: 0.1708\n",
      "Epoch 4/20\n",
      "250/250 [==============================] - 157s 626ms/step - loss: 565.4077 - iou_metric: 0.1715 - val_loss: 506.4536 - val_iou_metric: 0.1771\n",
      "Epoch 5/20\n",
      "250/250 [==============================] - 155s 619ms/step - loss: 409.4862 - iou_metric: 0.2451 - val_loss: 309.5942 - val_iou_metric: 0.3067\n",
      "Epoch 6/20\n",
      "250/250 [==============================] - 157s 629ms/step - loss: 278.3953 - iou_metric: 0.3198 - val_loss: 249.5817 - val_iou_metric: 0.3485\n",
      "Epoch 7/20\n",
      "250/250 [==============================] - 146s 585ms/step - loss: 233.5523 - iou_metric: 0.3488 - val_loss: 210.8982 - val_iou_metric: 0.3665\n",
      "Epoch 8/20\n",
      "250/250 [==============================] - 147s 589ms/step - loss: 201.3549 - iou_metric: 0.3761 - val_loss: 192.0311 - val_iou_metric: 0.4026\n",
      "Epoch 9/20\n",
      "250/250 [==============================] - 148s 592ms/step - loss: 171.5144 - iou_metric: 0.4060 - val_loss: 156.7925 - val_iou_metric: 0.4297\n",
      "Epoch 10/20\n",
      "250/250 [==============================] - 148s 591ms/step - loss: 147.9548 - iou_metric: 0.4320 - val_loss: 143.0120 - val_iou_metric: 0.4576\n",
      "Epoch 11/20\n",
      "250/250 [==============================] - 148s 591ms/step - loss: 129.8520 - iou_metric: 0.4566 - val_loss: 124.4865 - val_iou_metric: 0.4707\n",
      "Epoch 12/20\n",
      "250/250 [==============================] - 147s 588ms/step - loss: 115.4060 - iou_metric: 0.4805 - val_loss: 127.8476 - val_iou_metric: 0.4724\n",
      "Epoch 13/20\n",
      "250/250 [==============================] - 148s 594ms/step - loss: 101.5594 - iou_metric: 0.5042 - val_loss: 100.9936 - val_iou_metric: 0.5111\n",
      "Epoch 14/20\n",
      "250/250 [==============================] - 149s 595ms/step - loss: 86.4125 - iou_metric: 0.5327 - val_loss: 101.0887 - val_iou_metric: 0.5222\n",
      "Epoch 15/20\n",
      "250/250 [==============================] - 147s 590ms/step - loss: 79.1424 - iou_metric: 0.5490 - val_loss: 80.7074 - val_iou_metric: 0.5591\n",
      "Epoch 16/20\n",
      "250/250 [==============================] - 147s 590ms/step - loss: 69.6874 - iou_metric: 0.5711 - val_loss: 75.3551 - val_iou_metric: 0.5656\n",
      "Epoch 17/20\n",
      "248/250 [============================>.] - ETA: 1s - loss: 63.6853 - iou_metric: 0.5836"
     ]
    }
   ],
   "source": [
    "import tensorflow as tf\n",
    "from tensorflow.keras.models import Sequential\n",
    "from tensorflow.keras.layers import Conv2D, MaxPooling2D, Flatten, Dense\n",
    "\n",
    "# Define the model\n",
    "model = Sequential([\n",
    "    # Convolutional layer 1\n",
    "    Conv2D(32, (3, 3), activation='relu', input_shape=(100, 100, 1)),\n",
    "    MaxPooling2D((2, 2)),\n",
    "\n",
    "    # Convolutional layer 2\n",
    "    Conv2D(64, (3, 3), activation='relu'),\n",
    "    MaxPooling2D((2, 2)),\n",
    "\n",
    "    # Convolutional layer 3\n",
    "    Conv2D(128, (3, 3), activation='relu'),\n",
    "    MaxPooling2D((2, 2)),\n",
    "\n",
    "    # Flattening layer\n",
    "    Flatten(),\n",
    "\n",
    "    # Dense layer\n",
    "    Dense(128, activation='relu'),\n",
    "\n",
    "    # Output layer\n",
    "    Dense(3, activation='linear')  # 3 outputs for x, y, and radius\n",
    "])\n",
    "\n",
    "# Compile the model\n",
    "model.compile(optimizer='adam', loss='mean_squared_error', metrics=[iou_metric])\n",
    "\n",
    "# Model summary\n",
    "model.summary()\n",
    "\n",
    "# Train the model\n",
    "history = model.fit(X_train, y_train, epochs=20, batch_size=32, validation_data=(X_test, y_test))\n",
    "\n",
    "# The 'history' object will contain training and validation loss and metrics records.\n"
   ]
  },
  {
   "cell_type": "code",
   "execution_count": 9,
   "metadata": {
    "colab": {
     "base_uri": "https://localhost:8080/"
    },
    "id": "vYNRxeXX4rmy",
    "outputId": "5a51275f-f950-43a6-8e2e-883b30531f8e"
   },
   "outputs": [
    {
     "name": "stdout",
     "output_type": "stream",
     "text": [
      "63/63 [==============================] - 19s 298ms/step\n",
      "{0.5: 0.7135, 0.75: 0.274, 0.9: 0.029, 0.95: 0.0015}\n"
     ]
    }
   ],
   "source": [
    "def evaluate_model(model, X_test, y_test, iou_thresholds: Tuple[float, ...] = (0.5, 0.75, 0.9, 0.95)) -> dict:\n",
    "    \"\"\"Evaluate the model on the test set using various IOU thresholds.\"\"\"\n",
    "    predictions = model.predict(X_test)\n",
    "    accuracies = {threshold: 0 for threshold in iou_thresholds}\n",
    "\n",
    "    for pred, true in zip(predictions, y_test):\n",
    "        pred_circle = CircleParams(*pred)\n",
    "        true_circle = CircleParams(*true)\n",
    "\n",
    "        iou_score = iou(pred_circle, true_circle)\n",
    "\n",
    "        for threshold in iou_thresholds:\n",
    "            if iou_score >= threshold:\n",
    "                accuracies[threshold] += 1\n",
    "\n",
    "    total_samples = len(y_test)\n",
    "    accuracies = {threshold: acc / total_samples for threshold, acc in accuracies.items()}\n",
    "    return accuracies\n",
    "\n",
    "# Example of how to use evaluate_model\n",
    "accuracies = evaluate_model(model, X_test, y_test)\n",
    "print(accuracies)\n"
   ]
  },
  {
   "cell_type": "code",
   "execution_count": null,
   "metadata": {
    "id": "pd_qVYsXFMbK"
   },
   "outputs": [],
   "source": []
  }
 ],
 "metadata": {
  "colab": {
   "provenance": []
  },
  "kernelspec": {
   "display_name": "Python 3 (ipykernel)",
   "language": "python",
   "name": "python3"
  },
  "language_info": {
   "codemirror_mode": {
    "name": "ipython",
    "version": 3
   },
   "file_extension": ".py",
   "mimetype": "text/x-python",
   "name": "python",
   "nbconvert_exporter": "python",
   "pygments_lexer": "ipython3",
   "version": "3.10.9"
  }
 },
 "nbformat": 4,
 "nbformat_minor": 1
}
